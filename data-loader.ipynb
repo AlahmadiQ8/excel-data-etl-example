{
 "cells": [
  {
   "attachments": {},
   "cell_type": "markdown",
   "metadata": {},
   "source": [
    "# Basic Excel Data Processing"
   ]
  },
  {
   "cell_type": "code",
   "execution_count": 3,
   "metadata": {},
   "outputs": [
    {
     "data": {
      "text/plain": [
       "<module 'utils' from '/Users/mohammadmohammad/Dev/excel-data-etl/utils.py'>"
      ]
     },
     "execution_count": 3,
     "metadata": {},
     "output_type": "execute_result"
    }
   ],
   "source": [
    "import pandas as pd\n",
    "import numpy as np\n",
    "from decimal import Decimal, ROUND_HALF_UP\n",
    "import utils as utils\n",
    "from importlib import reload\n",
    "reload(utils)"
   ]
  },
  {
   "cell_type": "code",
   "execution_count": 4,
   "metadata": {},
   "outputs": [],
   "source": [
    "\n",
    "\n",
    "people = pd.read_csv(\"people.csv\")\n",
    "stats = pd.read_csv(\"stats.csv\")\n",
    "\n",
    "# if utils.checkMissingValues(people):\n",
    "#     print(\"Missing values exist in people.csv\")\n",
    "#     raise ValueError(\"Missing values exist in people.csv\")\n",
    "\n",
    "# if utils.checkMissingValues(stats):\n",
    "#     raise ValueError(\"Missing values exist in stats.csv\")\n",
    "\n"
   ]
  },
  {
   "cell_type": "code",
   "execution_count": 5,
   "metadata": {},
   "outputs": [],
   "source": [
    "# Drop rows with missing data across all columns\n",
    "stats = stats.dropna()\n",
    "\n",
    "# Sum all rows for column Salary \n",
    "sum = stats['Salary'].sum()\n",
    "\n",
    "stats.insert(4, \"derivedCol\", stats.apply(lambda row : round(row[\"Salary\"], 2), axis=1))\n"
   ]
  },
  {
   "cell_type": "code",
   "execution_count": 6,
   "metadata": {},
   "outputs": [
    {
     "name": "stdout",
     "output_type": "stream",
     "text": [
      "Sum of Salary column:  110813.0\n"
     ]
    }
   ],
   "source": [
    "# Sum all rows for column Salary \n",
    "sum = stats['Salary'].sum()\n",
    "print(\"Sum of Salary column: \", sum)"
   ]
  }
 ],
 "metadata": {
  "kernelspec": {
   "display_name": "base",
   "language": "python",
   "name": "python3"
  },
  "language_info": {
   "codemirror_mode": {
    "name": "ipython",
    "version": 3
   },
   "file_extension": ".py",
   "mimetype": "text/x-python",
   "name": "python",
   "nbconvert_exporter": "python",
   "pygments_lexer": "ipython3",
   "version": "3.10.9"
  },
  "orig_nbformat": 4
 },
 "nbformat": 4,
 "nbformat_minor": 2
}
